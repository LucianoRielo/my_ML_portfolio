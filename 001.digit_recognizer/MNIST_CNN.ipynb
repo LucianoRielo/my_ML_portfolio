{
 "cells": [
  {
   "attachments": {},
   "cell_type": "markdown",
   "metadata": {},
   "source": [
    "## **Training the model with MNIST dataset**"
   ]
  },
  {
   "attachments": {},
   "cell_type": "markdown",
   "metadata": {},
   "source": [
    "#### Import Libraries"
   ]
  },
  {
   "cell_type": "code",
   "execution_count": 10,
   "metadata": {},
   "outputs": [],
   "source": [
    "import tensorflow as tf\n",
    "import cv2 as cv\n",
    "import matplotlib.pyplot as plt\n",
    "from tensorflow import keras\n",
    "from keras.models import Sequential, load_model\n",
    "from keras.layers import Dense, Flatten, Conv2D, Dropout, MaxPooling2D\n",
    "import numpy as np\n",
    "from sklearn.metrics import accuracy_score"
   ]
  },
  {
   "attachments": {},
   "cell_type": "markdown",
   "metadata": {},
   "source": [
    "#### Load MNIST dataset"
   ]
  },
  {
   "cell_type": "code",
   "execution_count": 11,
   "metadata": {},
   "outputs": [
    {
     "name": "stdout",
     "output_type": "stream",
     "text": [
      "-------------------------\n",
      "\n",
      "Matrix X_train contains 60000 images (resolution = 28 X 28)\n",
      "\n",
      "For all images X_train there are 60000 labels, that goes from 0 to 9\n",
      "\n",
      "-------------------------\n",
      "\n",
      "Matrix X_test contains 10000 (28 X 28 resolution)\n",
      "\n",
      "For all images X_test there are 10000 labels, that goes from 0 to 9\n",
      "\n",
      "-------------------------\n",
      "\n",
      "Each model has 28 x 28 = 784 features\n",
      "-------------------------\n",
      "\n",
      "Values from X_train and X_test goes from 0 to 255\n",
      "\n",
      "-------------------------\n",
      "\n"
     ]
    }
   ],
   "source": [
    "(X_train, y_train), (X_test, y_test) = keras.datasets.mnist.load_data()\n",
    "\n",
    "print(f'-------------------------\\n')\n",
    "print(f'Matrix X_train contains {X_train.shape[0]} images (resolution = {X_train.shape[1]} X {X_train.shape[2]})\\n')\n",
    "print(f'For all images X_train there are {y_train.shape[0]} labels, that goes from {min(y_train)} to {max(y_train)}\\n')\n",
    "print(f'-------------------------\\n')\n",
    "print(f'Matrix X_test contains {X_test.shape[0]} ({X_test.shape[1]} X {X_test.shape[2]} resolution)\\n')\n",
    "print(f'For all images X_test there are {y_test.shape[0]} labels, that goes from {min(y_test)} to {max(y_test)}\\n')\n",
    "print(f'-------------------------\\n')\n",
    "print(f'Each model has {X_train[0].shape[0]} x {X_train[0].shape[1]} = {X_train[0].shape[0]*X_train[0].shape[1]} features')\n",
    "print(f'-------------------------\\n')\n",
    "print(f'Values from X_train and X_test goes from {np.min(X_train[0])} to {np.max(X_train[0])}\\n')\n",
    "print(f'-------------------------\\n')\n",
    "\n",
    "X_train = X_train / np.max(X_train[0])  # now values from 0 to 1\n",
    "X_test = X_test / np.max(X_test[0])"
   ]
  },
  {
   "attachments": {},
   "cell_type": "markdown",
   "metadata": {},
   "source": [
    "#### Create Models"
   ]
  },
  {
   "cell_type": "code",
   "execution_count": 12,
   "metadata": {},
   "outputs": [],
   "source": [
    "model_1 = Sequential(\n",
    "    [\n",
    "    Flatten(input_shape=(28,28)),\n",
    "    Dense(128,activation='relu'),\n",
    "    Dense(10,activation='softmax'),\n",
    "    ],\n",
    "    name = 'model_1'\n",
    ")\n",
    "\n",
    "model_2 = Sequential(\n",
    "    [\n",
    "        Conv2D(32, kernel_size=(3,3), input_shape=(28,28,1)),  # 28,28,1 (gray scale images 28x28)\n",
    "        Conv2D(32, kernel_size=(3,3)),\n",
    "        MaxPooling2D(pool_size=(2,2)),\n",
    "        Conv2D(64, kernel_size=(3,3)),\n",
    "        Conv2D(64, kernel_size=(3,3)),\n",
    "        MaxPooling2D(pool_size=(2,2)),\n",
    "        Flatten(),\n",
    "        Dense(128, activation='relu'),\n",
    "        Dropout(0.2),\n",
    "        Dense(10,activation='softmax'),\n",
    "    ],\n",
    "    name = 'model_2'\n",
    ")"
   ]
  },
  {
   "cell_type": "code",
   "execution_count": 13,
   "metadata": {},
   "outputs": [],
   "source": [
    "model = model_2"
   ]
  },
  {
   "cell_type": "code",
   "execution_count": 14,
   "metadata": {},
   "outputs": [
    {
     "name": "stdout",
     "output_type": "stream",
     "text": [
      "Model: \"model_2\"\n",
      "_________________________________________________________________\n",
      " Layer (type)                Output Shape              Param #   \n",
      "=================================================================\n",
      " conv2d (Conv2D)             (None, 26, 26, 32)        320       \n",
      "                                                                 \n",
      " conv2d_1 (Conv2D)           (None, 24, 24, 32)        9248      \n",
      "                                                                 \n",
      " max_pooling2d (MaxPooling2D  (None, 12, 12, 32)       0         \n",
      " )                                                               \n",
      "                                                                 \n",
      " conv2d_2 (Conv2D)           (None, 10, 10, 64)        18496     \n",
      "                                                                 \n",
      " conv2d_3 (Conv2D)           (None, 8, 8, 64)          36928     \n",
      "                                                                 \n",
      " max_pooling2d_1 (MaxPooling  (None, 4, 4, 64)         0         \n",
      " 2D)                                                             \n",
      "                                                                 \n",
      " flatten_2 (Flatten)         (None, 1024)              0         \n",
      "                                                                 \n",
      " dense_5 (Dense)             (None, 128)               131200    \n",
      "                                                                 \n",
      " dropout (Dropout)           (None, 128)               0         \n",
      "                                                                 \n",
      " dense_6 (Dense)             (None, 10)                1290      \n",
      "                                                                 \n",
      "=================================================================\n",
      "Total params: 197,482\n",
      "Trainable params: 197,482\n",
      "Non-trainable params: 0\n",
      "_________________________________________________________________\n"
     ]
    }
   ],
   "source": [
    "model.summary()"
   ]
  },
  {
   "cell_type": "code",
   "execution_count": 15,
   "metadata": {},
   "outputs": [
    {
     "name": "stdout",
     "output_type": "stream",
     "text": [
      "Epoch 1/15\n",
      "1500/1500 [==============================] - 43s 28ms/step - loss: 0.1636 - accuracy: 0.9485 - val_loss: 0.0603 - val_accuracy: 0.9828\n",
      "Epoch 2/15\n",
      "1500/1500 [==============================] - 43s 29ms/step - loss: 0.0726 - accuracy: 0.9774 - val_loss: 0.0551 - val_accuracy: 0.9847\n",
      "Epoch 3/15\n",
      "1500/1500 [==============================] - 41s 28ms/step - loss: 0.0583 - accuracy: 0.9815 - val_loss: 0.0513 - val_accuracy: 0.9855\n",
      "Epoch 4/15\n",
      "1500/1500 [==============================] - 43s 29ms/step - loss: 0.0489 - accuracy: 0.9848 - val_loss: 0.0395 - val_accuracy: 0.9881\n",
      "Epoch 5/15\n",
      "1500/1500 [==============================] - 45s 30ms/step - loss: 0.0452 - accuracy: 0.9857 - val_loss: 0.0416 - val_accuracy: 0.9875\n",
      "Epoch 6/15\n",
      "1500/1500 [==============================] - 40s 27ms/step - loss: 0.0408 - accuracy: 0.9871 - val_loss: 0.0475 - val_accuracy: 0.9865\n",
      "Epoch 7/15\n",
      "1500/1500 [==============================] - 42s 28ms/step - loss: 0.0389 - accuracy: 0.9883 - val_loss: 0.0527 - val_accuracy: 0.9866\n",
      "Epoch 8/15\n",
      "1500/1500 [==============================] - 41s 28ms/step - loss: 0.0360 - accuracy: 0.9888 - val_loss: 0.0460 - val_accuracy: 0.9869\n",
      "Epoch 9/15\n",
      "1500/1500 [==============================] - 40s 27ms/step - loss: 0.0300 - accuracy: 0.9904 - val_loss: 0.0645 - val_accuracy: 0.9850\n",
      "Epoch 10/15\n",
      "1500/1500 [==============================] - 41s 27ms/step - loss: 0.0333 - accuracy: 0.9896 - val_loss: 0.0592 - val_accuracy: 0.9862\n",
      "Epoch 11/15\n",
      "1500/1500 [==============================] - 41s 27ms/step - loss: 0.0290 - accuracy: 0.9909 - val_loss: 0.0577 - val_accuracy: 0.9876\n",
      "Epoch 12/15\n",
      "1500/1500 [==============================] - 40s 26ms/step - loss: 0.0288 - accuracy: 0.9917 - val_loss: 0.0567 - val_accuracy: 0.9885\n",
      "Epoch 13/15\n",
      "1500/1500 [==============================] - 39s 26ms/step - loss: 0.0259 - accuracy: 0.9924 - val_loss: 0.0716 - val_accuracy: 0.9851\n",
      "Epoch 14/15\n",
      "1500/1500 [==============================] - 39s 26ms/step - loss: 0.0331 - accuracy: 0.9904 - val_loss: 0.0554 - val_accuracy: 0.9887\n",
      "Epoch 15/15\n",
      "1500/1500 [==============================] - 39s 26ms/step - loss: 0.0237 - accuracy: 0.9930 - val_loss: 0.0904 - val_accuracy: 0.9827\n"
     ]
    }
   ],
   "source": [
    "model.compile(\n",
    "    loss = 'sparse_categorical_crossentropy',\n",
    "    # loss = tf.keras.losses.CategoricalCrossentropy(from_logits=False),\n",
    "    optimizer = 'Adam',\n",
    "    # optimizer=tf.keras.optimizers.Adam(learning_rate=0.01),\n",
    "    metrics=['accuracy'],\n",
    ")\n",
    "\n",
    "history = model.fit(\n",
    "    X_train,\n",
    "    y_train,\n",
    "    epochs = 15,\n",
    "    validation_split = 0.2,\n",
    ")"
   ]
  },
  {
   "cell_type": "code",
   "execution_count": 16,
   "metadata": {},
   "outputs": [
    {
     "name": "stdout",
     "output_type": "stream",
     "text": [
      "313/313 [==============================] - 2s 6ms/step\n"
     ]
    }
   ],
   "source": [
    "y_prob = model.predict(X_test)\n",
    "y_hat = y_prob.argmax(axis=1)"
   ]
  },
  {
   "cell_type": "code",
   "execution_count": 17,
   "metadata": {},
   "outputs": [
    {
     "data": {
      "text/plain": [
       "0.9834"
      ]
     },
     "execution_count": 17,
     "metadata": {},
     "output_type": "execute_result"
    }
   ],
   "source": [
    "y_hat = y_hat.astype(np.uint8)\n",
    "accuracy_score(y_test,y_hat)"
   ]
  },
  {
   "cell_type": "code",
   "execution_count": 19,
   "metadata": {},
   "outputs": [
    {
     "name": "stdout",
     "output_type": "stream",
     "text": [
      "313/313 [==============================] - 2s 7ms/step - loss: 0.0831 - accuracy: 0.9834\n"
     ]
    },
    {
     "data": {
      "text/plain": [
       "[0.08305638283491135, 0.9833999872207642]"
      ]
     },
     "execution_count": 19,
     "metadata": {},
     "output_type": "execute_result"
    }
   ],
   "source": [
    "model.evaluate(X_test,y_test)"
   ]
  },
  {
   "cell_type": "code",
   "execution_count": 20,
   "metadata": {},
   "outputs": [],
   "source": [
    "model.save('CNN.hdf5')"
   ]
  },
  {
   "cell_type": "code",
   "execution_count": null,
   "metadata": {},
   "outputs": [],
   "source": []
  }
 ],
 "metadata": {
  "kernelspec": {
   "display_name": "base",
   "language": "python",
   "name": "python3"
  },
  "language_info": {
   "codemirror_mode": {
    "name": "ipython",
    "version": 3
   },
   "file_extension": ".py",
   "mimetype": "text/x-python",
   "name": "python",
   "nbconvert_exporter": "python",
   "pygments_lexer": "ipython3",
   "version": "3.9.13"
  },
  "orig_nbformat": 4
 },
 "nbformat": 4,
 "nbformat_minor": 2
}
